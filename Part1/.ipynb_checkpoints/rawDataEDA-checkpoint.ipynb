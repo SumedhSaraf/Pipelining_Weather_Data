{
 "cells": [
  {
   "cell_type": "code",
   "execution_count": 1,
   "metadata": {
    "collapsed": true
   },
   "outputs": [],
   "source": [
    "import csv\n",
    "import time\n",
    "import datetime \n",
    "from datetime import datetime\n",
    "import matplotlib as plt\n",
    "%matplotlib inline\n",
    "from matplotlib import pyplot as plt\n",
    "import numpy as np\n",
    "import pandas as pd\n",
    "from datetime import datetime,date,timedelta"
   ]
  },
  {
   "cell_type": "code",
   "execution_count": 250,
   "metadata": {
    "collapsed": true
   },
   "outputs": [],
   "source": [
    "# df1 = pd.read_csv('1943-1945.csv',low_memory=False,index_col=None)\n",
    "# df2 = pd.read_csv('1956-1962.csv',low_memory=False,index_col=None, header=0)\n",
    "# df3 = pd.read_csv('1962-1970.csv',low_memory=False,index_col=None, header=0)\n",
    "# df4 = pd.read_csv('1973-1982.csv',low_memory=False,index_col=None, header=0)\n",
    "# df5 = pd.read_csv('1983-1991.csv',low_memory=False,index_col=None, header=0)\n",
    "# df6 = pd.read_csv('1992-1999.csv',low_memory=False,index_col=None, header=0)\n",
    "# df7 = pd.read_csv('2005-2011.csv',low_memory=False,index_col=None, header=0)\n",
    "# df8 = pd.read_csv('2012-2017.csv',low_memory=False,index_col=None, header=0)"
   ]
  },
  {
   "cell_type": "code",
   "execution_count": 42,
   "metadata": {
    "collapsed": true
   },
   "outputs": [],
   "source": []
  },
  {
   "cell_type": "code",
   "execution_count": 251,
   "metadata": {
    "collapsed": true
   },
   "outputs": [],
   "source": [
    "# frames1 = [df1, df2, df3,df4,df5,df6,df7, df8]"
   ]
  },
  {
   "cell_type": "code",
   "execution_count": 253,
   "metadata": {
    "collapsed": true
   },
   "outputs": [],
   "source": [
    "# result1 = pd.concat(frames1,join='outer')\n",
    "\n",
    "# import glob\n",
    "\n",
    "# interesting_files = glob.glob(\"*.csv\") \n",
    "\n",
    "# header_saved = False\n",
    "# with open('output.csv','wb') as fout:\n",
    "#     for filename in interesting_files:\n",
    "#         with open(filename) as fin:\n",
    "#             header = next(fin)\n",
    "#             if not header_saved:\n",
    "#                 fout.write(header)\n",
    "#                 header_saved = True\n",
    "#             for line in fin:\n",
    "#                 fout.write(line)"
   ]
  },
  {
   "cell_type": "code",
   "execution_count": 254,
   "metadata": {
    "collapsed": true
   },
   "outputs": [],
   "source": [
    "# result1.to_csv('AllData.csv')"
   ]
  },
  {
   "cell_type": "code",
   "execution_count": 63,
   "metadata": {},
   "outputs": [
    {
     "data": {
      "text/plain": [
       "(547143, 90)"
      ]
     },
     "execution_count": 63,
     "metadata": {},
     "output_type": "execute_result"
    }
   ],
   "source": [
    "# result1.shape"
   ]
  },
  {
   "cell_type": "code",
   "execution_count": 258,
   "metadata": {
    "collapsed": true
   },
   "outputs": [],
   "source": [
    "# df_new = pd.read_csv('AllData.csv',low_memory=False,index_col=None) #give the name of csv here"
   ]
  },
  {
   "cell_type": "code",
   "execution_count": 259,
   "metadata": {},
   "outputs": [
    {
     "data": {
      "text/html": [
       "<div>\n",
       "<table border=\"1\" class=\"dataframe\">\n",
       "  <thead>\n",
       "    <tr style=\"text-align: right;\">\n",
       "      <th></th>\n",
       "      <th>Unnamed: 0</th>\n",
       "      <th>ELEVATION</th>\n",
       "      <th>LATITUDE</th>\n",
       "      <th>LONGITUDE</th>\n",
       "      <th>HOURLYPressureTendency</th>\n",
       "      <th>DAILYMaximumDryBulbTemp</th>\n",
       "      <th>DAILYMinimumDryBulbTemp</th>\n",
       "      <th>DAILYAverageDryBulbTemp</th>\n",
       "      <th>DAILYDeptFromNormalAverageTemp</th>\n",
       "      <th>DAILYAverageRelativeHumidity</th>\n",
       "      <th>...</th>\n",
       "      <th>MonthlyMaxSeaLevelPressureTime</th>\n",
       "      <th>MonthlyMinSeaLevelPressureValue</th>\n",
       "      <th>MonthlyMinSeaLevelPressureDate</th>\n",
       "      <th>MonthlyMinSeaLevelPressureTime</th>\n",
       "      <th>MonthlyTotalHeatingDegreeDays</th>\n",
       "      <th>MonthlyTotalCoolingDegreeDays</th>\n",
       "      <th>MonthlyDeptFromNormalHeatingDD</th>\n",
       "      <th>MonthlyDeptFromNormalCoolingDD</th>\n",
       "      <th>MonthlyTotalSeasonToDateHeatingDD</th>\n",
       "      <th>MonthlyTotalSeasonToDateCoolingDD</th>\n",
       "    </tr>\n",
       "  </thead>\n",
       "  <tbody>\n",
       "    <tr>\n",
       "      <th>count</th>\n",
       "      <td>547143.000000</td>\n",
       "      <td>547143.0</td>\n",
       "      <td>5.471430e+05</td>\n",
       "      <td>5.471430e+05</td>\n",
       "      <td>110442.000000</td>\n",
       "      <td>1404.000000</td>\n",
       "      <td>1404.000000</td>\n",
       "      <td>1404.000000</td>\n",
       "      <td>0.0</td>\n",
       "      <td>0.0</td>\n",
       "      <td>...</td>\n",
       "      <td>547143.0</td>\n",
       "      <td>0.0</td>\n",
       "      <td>547143.0</td>\n",
       "      <td>547143.0</td>\n",
       "      <td>0.0</td>\n",
       "      <td>0.0</td>\n",
       "      <td>0.0</td>\n",
       "      <td>0.0</td>\n",
       "      <td>0.0</td>\n",
       "      <td>0.0</td>\n",
       "    </tr>\n",
       "    <tr>\n",
       "      <th>mean</th>\n",
       "      <td>37982.227553</td>\n",
       "      <td>545.0</td>\n",
       "      <td>3.243333e+01</td>\n",
       "      <td>-9.985000e+01</td>\n",
       "      <td>4.230148</td>\n",
       "      <td>77.747863</td>\n",
       "      <td>53.207265</td>\n",
       "      <td>65.467236</td>\n",
       "      <td>NaN</td>\n",
       "      <td>NaN</td>\n",
       "      <td>...</td>\n",
       "      <td>-9999.0</td>\n",
       "      <td>NaN</td>\n",
       "      <td>-9999.0</td>\n",
       "      <td>-9999.0</td>\n",
       "      <td>NaN</td>\n",
       "      <td>NaN</td>\n",
       "      <td>NaN</td>\n",
       "      <td>NaN</td>\n",
       "      <td>NaN</td>\n",
       "      <td>NaN</td>\n",
       "    </tr>\n",
       "    <tr>\n",
       "      <th>std</th>\n",
       "      <td>24120.116978</td>\n",
       "      <td>0.0</td>\n",
       "      <td>2.164884e-10</td>\n",
       "      <td>9.517587e-10</td>\n",
       "      <td>2.719506</td>\n",
       "      <td>17.170703</td>\n",
       "      <td>16.844826</td>\n",
       "      <td>16.508092</td>\n",
       "      <td>NaN</td>\n",
       "      <td>NaN</td>\n",
       "      <td>...</td>\n",
       "      <td>0.0</td>\n",
       "      <td>NaN</td>\n",
       "      <td>0.0</td>\n",
       "      <td>0.0</td>\n",
       "      <td>NaN</td>\n",
       "      <td>NaN</td>\n",
       "      <td>NaN</td>\n",
       "      <td>NaN</td>\n",
       "      <td>NaN</td>\n",
       "      <td>NaN</td>\n",
       "    </tr>\n",
       "    <tr>\n",
       "      <th>min</th>\n",
       "      <td>0.000000</td>\n",
       "      <td>545.0</td>\n",
       "      <td>3.243333e+01</td>\n",
       "      <td>-9.985000e+01</td>\n",
       "      <td>0.000000</td>\n",
       "      <td>16.000000</td>\n",
       "      <td>11.000000</td>\n",
       "      <td>14.000000</td>\n",
       "      <td>NaN</td>\n",
       "      <td>NaN</td>\n",
       "      <td>...</td>\n",
       "      <td>-9999.0</td>\n",
       "      <td>NaN</td>\n",
       "      <td>-9999.0</td>\n",
       "      <td>-9999.0</td>\n",
       "      <td>NaN</td>\n",
       "      <td>NaN</td>\n",
       "      <td>NaN</td>\n",
       "      <td>NaN</td>\n",
       "      <td>NaN</td>\n",
       "      <td>NaN</td>\n",
       "    </tr>\n",
       "    <tr>\n",
       "      <th>25%</th>\n",
       "      <td>17098.000000</td>\n",
       "      <td>545.0</td>\n",
       "      <td>3.243333e+01</td>\n",
       "      <td>-9.985000e+01</td>\n",
       "      <td>2.000000</td>\n",
       "      <td>67.000000</td>\n",
       "      <td>39.000000</td>\n",
       "      <td>54.000000</td>\n",
       "      <td>NaN</td>\n",
       "      <td>NaN</td>\n",
       "      <td>...</td>\n",
       "      <td>-9999.0</td>\n",
       "      <td>NaN</td>\n",
       "      <td>-9999.0</td>\n",
       "      <td>-9999.0</td>\n",
       "      <td>NaN</td>\n",
       "      <td>NaN</td>\n",
       "      <td>NaN</td>\n",
       "      <td>NaN</td>\n",
       "      <td>NaN</td>\n",
       "      <td>NaN</td>\n",
       "    </tr>\n",
       "    <tr>\n",
       "      <th>50%</th>\n",
       "      <td>36470.000000</td>\n",
       "      <td>545.0</td>\n",
       "      <td>3.243333e+01</td>\n",
       "      <td>-9.985000e+01</td>\n",
       "      <td>3.000000</td>\n",
       "      <td>81.000000</td>\n",
       "      <td>56.000000</td>\n",
       "      <td>68.000000</td>\n",
       "      <td>NaN</td>\n",
       "      <td>NaN</td>\n",
       "      <td>...</td>\n",
       "      <td>-9999.0</td>\n",
       "      <td>NaN</td>\n",
       "      <td>-9999.0</td>\n",
       "      <td>-9999.0</td>\n",
       "      <td>NaN</td>\n",
       "      <td>NaN</td>\n",
       "      <td>NaN</td>\n",
       "      <td>NaN</td>\n",
       "      <td>NaN</td>\n",
       "      <td>NaN</td>\n",
       "    </tr>\n",
       "    <tr>\n",
       "      <th>75%</th>\n",
       "      <td>56010.500000</td>\n",
       "      <td>545.0</td>\n",
       "      <td>3.243333e+01</td>\n",
       "      <td>-9.985000e+01</td>\n",
       "      <td>7.000000</td>\n",
       "      <td>91.000000</td>\n",
       "      <td>69.000000</td>\n",
       "      <td>80.000000</td>\n",
       "      <td>NaN</td>\n",
       "      <td>NaN</td>\n",
       "      <td>...</td>\n",
       "      <td>-9999.0</td>\n",
       "      <td>NaN</td>\n",
       "      <td>-9999.0</td>\n",
       "      <td>-9999.0</td>\n",
       "      <td>NaN</td>\n",
       "      <td>NaN</td>\n",
       "      <td>NaN</td>\n",
       "      <td>NaN</td>\n",
       "      <td>NaN</td>\n",
       "      <td>NaN</td>\n",
       "    </tr>\n",
       "    <tr>\n",
       "      <th>max</th>\n",
       "      <td>99213.000000</td>\n",
       "      <td>545.0</td>\n",
       "      <td>3.243333e+01</td>\n",
       "      <td>-9.985000e+01</td>\n",
       "      <td>8.000000</td>\n",
       "      <td>105.000000</td>\n",
       "      <td>85.000000</td>\n",
       "      <td>94.000000</td>\n",
       "      <td>NaN</td>\n",
       "      <td>NaN</td>\n",
       "      <td>...</td>\n",
       "      <td>-9999.0</td>\n",
       "      <td>NaN</td>\n",
       "      <td>-9999.0</td>\n",
       "      <td>-9999.0</td>\n",
       "      <td>NaN</td>\n",
       "      <td>NaN</td>\n",
       "      <td>NaN</td>\n",
       "      <td>NaN</td>\n",
       "      <td>NaN</td>\n",
       "      <td>NaN</td>\n",
       "    </tr>\n",
       "  </tbody>\n",
       "</table>\n",
       "<p>8 rows × 67 columns</p>\n",
       "</div>"
      ],
      "text/plain": [
       "          Unnamed: 0  ELEVATION      LATITUDE     LONGITUDE  \\\n",
       "count  547143.000000   547143.0  5.471430e+05  5.471430e+05   \n",
       "mean    37982.227553      545.0  3.243333e+01 -9.985000e+01   \n",
       "std     24120.116978        0.0  2.164884e-10  9.517587e-10   \n",
       "min         0.000000      545.0  3.243333e+01 -9.985000e+01   \n",
       "25%     17098.000000      545.0  3.243333e+01 -9.985000e+01   \n",
       "50%     36470.000000      545.0  3.243333e+01 -9.985000e+01   \n",
       "75%     56010.500000      545.0  3.243333e+01 -9.985000e+01   \n",
       "max     99213.000000      545.0  3.243333e+01 -9.985000e+01   \n",
       "\n",
       "       HOURLYPressureTendency  DAILYMaximumDryBulbTemp  \\\n",
       "count           110442.000000              1404.000000   \n",
       "mean                 4.230148                77.747863   \n",
       "std                  2.719506                17.170703   \n",
       "min                  0.000000                16.000000   \n",
       "25%                  2.000000                67.000000   \n",
       "50%                  3.000000                81.000000   \n",
       "75%                  7.000000                91.000000   \n",
       "max                  8.000000               105.000000   \n",
       "\n",
       "       DAILYMinimumDryBulbTemp  DAILYAverageDryBulbTemp  \\\n",
       "count              1404.000000              1404.000000   \n",
       "mean                 53.207265                65.467236   \n",
       "std                  16.844826                16.508092   \n",
       "min                  11.000000                14.000000   \n",
       "25%                  39.000000                54.000000   \n",
       "50%                  56.000000                68.000000   \n",
       "75%                  69.000000                80.000000   \n",
       "max                  85.000000                94.000000   \n",
       "\n",
       "       DAILYDeptFromNormalAverageTemp  DAILYAverageRelativeHumidity  \\\n",
       "count                             0.0                           0.0   \n",
       "mean                              NaN                           NaN   \n",
       "std                               NaN                           NaN   \n",
       "min                               NaN                           NaN   \n",
       "25%                               NaN                           NaN   \n",
       "50%                               NaN                           NaN   \n",
       "75%                               NaN                           NaN   \n",
       "max                               NaN                           NaN   \n",
       "\n",
       "                     ...                  MonthlyMaxSeaLevelPressureTime  \\\n",
       "count                ...                                        547143.0   \n",
       "mean                 ...                                         -9999.0   \n",
       "std                  ...                                             0.0   \n",
       "min                  ...                                         -9999.0   \n",
       "25%                  ...                                         -9999.0   \n",
       "50%                  ...                                         -9999.0   \n",
       "75%                  ...                                         -9999.0   \n",
       "max                  ...                                         -9999.0   \n",
       "\n",
       "       MonthlyMinSeaLevelPressureValue  MonthlyMinSeaLevelPressureDate  \\\n",
       "count                              0.0                        547143.0   \n",
       "mean                               NaN                         -9999.0   \n",
       "std                                NaN                             0.0   \n",
       "min                                NaN                         -9999.0   \n",
       "25%                                NaN                         -9999.0   \n",
       "50%                                NaN                         -9999.0   \n",
       "75%                                NaN                         -9999.0   \n",
       "max                                NaN                         -9999.0   \n",
       "\n",
       "       MonthlyMinSeaLevelPressureTime  MonthlyTotalHeatingDegreeDays  \\\n",
       "count                        547143.0                            0.0   \n",
       "mean                          -9999.0                            NaN   \n",
       "std                               0.0                            NaN   \n",
       "min                           -9999.0                            NaN   \n",
       "25%                           -9999.0                            NaN   \n",
       "50%                           -9999.0                            NaN   \n",
       "75%                           -9999.0                            NaN   \n",
       "max                           -9999.0                            NaN   \n",
       "\n",
       "       MonthlyTotalCoolingDegreeDays  MonthlyDeptFromNormalHeatingDD  \\\n",
       "count                            0.0                             0.0   \n",
       "mean                             NaN                             NaN   \n",
       "std                              NaN                             NaN   \n",
       "min                              NaN                             NaN   \n",
       "25%                              NaN                             NaN   \n",
       "50%                              NaN                             NaN   \n",
       "75%                              NaN                             NaN   \n",
       "max                              NaN                             NaN   \n",
       "\n",
       "       MonthlyDeptFromNormalCoolingDD  MonthlyTotalSeasonToDateHeatingDD  \\\n",
       "count                             0.0                                0.0   \n",
       "mean                              NaN                                NaN   \n",
       "std                               NaN                                NaN   \n",
       "min                               NaN                                NaN   \n",
       "25%                               NaN                                NaN   \n",
       "50%                               NaN                                NaN   \n",
       "75%                               NaN                                NaN   \n",
       "max                               NaN                                NaN   \n",
       "\n",
       "       MonthlyTotalSeasonToDateCoolingDD  \n",
       "count                                0.0  \n",
       "mean                                 NaN  \n",
       "std                                  NaN  \n",
       "min                                  NaN  \n",
       "25%                                  NaN  \n",
       "50%                                  NaN  \n",
       "75%                                  NaN  \n",
       "max                                  NaN  \n",
       "\n",
       "[8 rows x 67 columns]"
      ]
     },
     "execution_count": 259,
     "metadata": {},
     "output_type": "execute_result"
    }
   ],
   "source": [
    "# df_new.describe()"
   ]
  },
  {
   "cell_type": "code",
   "execution_count": 108,
   "metadata": {},
   "outputs": [
    {
     "data": {
      "text/plain": [
       "'1943-12-01 01:00'"
      ]
     },
     "execution_count": 108,
     "metadata": {},
     "output_type": "execute_result"
    }
   ],
   "source": [
    "# min(df_new['DATE'])"
   ]
  },
  {
   "cell_type": "code",
   "execution_count": 104,
   "metadata": {
    "collapsed": true
   },
   "outputs": [],
   "source": []
  },
  {
   "cell_type": "code",
   "execution_count": 106,
   "metadata": {
    "collapsed": true
   },
   "outputs": [],
   "source": [
    "# now = datetime.now()\n",
    "# youngest = max(dt for dt in df_new['DATE'] if dt < str(now))"
   ]
  },
  {
   "cell_type": "code",
   "execution_count": 107,
   "metadata": {},
   "outputs": [
    {
     "data": {
      "text/plain": [
       "'2017-06-17 22:58'"
      ]
     },
     "execution_count": 107,
     "metadata": {},
     "output_type": "execute_result"
    }
   ],
   "source": [
    "# youngest"
   ]
  },
  {
   "cell_type": "code",
   "execution_count": 112,
   "metadata": {
    "collapsed": true
   },
   "outputs": [],
   "source": [
    "# clean the data come on"
   ]
  },
  {
   "cell_type": "code",
   "execution_count": 160,
   "metadata": {
    "collapsed": true
   },
   "outputs": [],
   "source": [
    "# df_new['year'] = df_new.DATE.apply(lambda x: x[:4])\n"
   ]
  },
  {
   "cell_type": "code",
   "execution_count": 165,
   "metadata": {
    "collapsed": true
   },
   "outputs": [],
   "source": [
    "# df_new['month'] = df_new.DATE.apply(lambda x: x[5:7])\n",
    "# df_new['day'] = df_new.DATE.apply(lambda x: x[8:10])"
   ]
  },
  {
   "cell_type": "code",
   "execution_count": 193,
   "metadata": {
    "collapsed": true
   },
   "outputs": [],
   "source": [
    "# df_new['date']=pd.to_datetime(df_new['DATE'], errors='coerce')"
   ]
  },
  {
   "cell_type": "code",
   "execution_count": 184,
   "metadata": {
    "collapsed": true
   },
   "outputs": [],
   "source": [
    "# df_new['month']=pd.to_datetime(df_new['month'], errors='coerce')\n",
    "# df_new['year']=pd.to_datetime(df_new['year'], errors='coerce')\n",
    "# df_new['day']=pd.to_datetime(df_new['day'], errors='coerce')"
   ]
  },
  {
   "cell_type": "code",
   "execution_count": 192,
   "metadata": {
    "collapsed": true
   },
   "outputs": [],
   "source": [
    "# df_new.to_csv('xxxxx.csv')"
   ]
  },
  {
   "cell_type": "code",
   "execution_count": 183,
   "metadata": {},
   "outputs": [
    {
     "data": {
      "text/plain": [
       "pandas.core.series.Series"
      ]
     },
     "execution_count": 183,
     "metadata": {},
     "output_type": "execute_result"
    }
   ],
   "source": [
    "# type(df_new['month'])"
   ]
  },
  {
   "cell_type": "code",
   "execution_count": null,
   "metadata": {
    "collapsed": true
   },
   "outputs": [],
   "source": [
    "df_new = pd.read_csv('TX_170617_WBAN_13910l.csv',low_memory=False,index_col=None, header=0)"
   ]
  },
  {
   "cell_type": "code",
   "execution_count": 262,
   "metadata": {
    "collapsed": true
   },
   "outputs": [],
   "source": [
    "df_new['DATE']=pd.to_datetime(df_new['DATE'], errors='coerce')\n",
    "df_new['just_date'] =df_new['DATE'].dt.date"
   ]
  },
  {
   "cell_type": "code",
   "execution_count": 264,
   "metadata": {
    "collapsed": true
   },
   "outputs": [],
   "source": [
    "df_new['month']=df_new['DATE'].dt.month"
   ]
  },
  {
   "cell_type": "code",
   "execution_count": 265,
   "metadata": {
    "collapsed": true
   },
   "outputs": [],
   "source": [
    "df_new['year']=df_new['DATE'].dt.year\n",
    "df_new['day']=df_new['DATE'].dt.day\n",
    "df_new['timestamps']=df_new['DATE'].dt.time"
   ]
  },
  {
   "cell_type": "code",
   "execution_count": 266,
   "metadata": {
    "collapsed": true
   },
   "outputs": [],
   "source": [
    "# df_new.to_csv('samples_new.csv')"
   ]
  },
  {
   "cell_type": "code",
   "execution_count": 267,
   "metadata": {
    "collapsed": true
   },
   "outputs": [],
   "source": [
    "# samples_new = pd.read_csv('samples_new.csv',low_memory=False)"
   ]
  },
  {
   "cell_type": "code",
   "execution_count": 268,
   "metadata": {},
   "outputs": [
    {
     "data": {
      "text/plain": [
       "<matplotlib.text.Text at 0x25aa2075208>"
      ]
     },
     "execution_count": 268,
     "metadata": {},
     "output_type": "execute_result"
    },
    {
     "data": {
      "image/png": "[encoded data removed]",
      "text/plain": [
       "<matplotlib.figure.Figure at 0x25aa1f5eb38>"
      ]
     },
     "metadata": {},
     "output_type": "display_data"
    }
   ],
   "source": [
    "individualmonths = pd.DataFrame(df_new.groupby('month').count()['HOURLYDRYBULBTEMPF'])\n",
    "individualmonths = individualmonths.sort_values(['HOURLYDRYBULBTEMPF'],ascending = 1)\n",
    "\n",
    "ak = individualmonths.plot(kind='barh',figsize=(14,7))\n",
    "ak.set_xlabel('Max_Aggregate_Bulb_Temp--->')\n",
    "ak.set_ylabel('Month--->')"
   ]
  },
  {
   "cell_type": "code",
   "execution_count": 269,
   "metadata": {
    "scrolled": true
   },
   "outputs": [
    {
     "data": {
      "text/html": [
       "<div>\n",
       "<table border=\"1\" class=\"dataframe\">\n",
       "  <thead>\n",
       "    <tr style=\"text-align: right;\">\n",
       "      <th></th>\n",
       "      <th>HOURLYDRYBULBTEMPF</th>\n",
       "    </tr>\n",
       "    <tr>\n",
       "      <th>month</th>\n",
       "      <th></th>\n",
       "    </tr>\n",
       "  </thead>\n",
       "  <tbody>\n",
       "    <tr>\n",
       "      <th>2.0</th>\n",
       "      <td>46586</td>\n",
       "    </tr>\n",
       "    <tr>\n",
       "      <th>11.0</th>\n",
       "      <td>47678</td>\n",
       "    </tr>\n",
       "    <tr>\n",
       "      <th>6.0</th>\n",
       "      <td>47937</td>\n",
       "    </tr>\n",
       "    <tr>\n",
       "      <th>9.0</th>\n",
       "      <td>48279</td>\n",
       "    </tr>\n",
       "    <tr>\n",
       "      <th>7.0</th>\n",
       "      <td>48606</td>\n",
       "    </tr>\n",
       "    <tr>\n",
       "      <th>8.0</th>\n",
       "      <td>48876</td>\n",
       "    </tr>\n",
       "    <tr>\n",
       "      <th>4.0</th>\n",
       "      <td>48886</td>\n",
       "    </tr>\n",
       "    <tr>\n",
       "      <th>10.0</th>\n",
       "      <td>49447</td>\n",
       "    </tr>\n",
       "    <tr>\n",
       "      <th>1.0</th>\n",
       "      <td>50097</td>\n",
       "    </tr>\n",
       "    <tr>\n",
       "      <th>12.0</th>\n",
       "      <td>50449</td>\n",
       "    </tr>\n",
       "    <tr>\n",
       "      <th>3.0</th>\n",
       "      <td>50864</td>\n",
       "    </tr>\n",
       "    <tr>\n",
       "      <th>5.0</th>\n",
       "      <td>51163</td>\n",
       "    </tr>\n",
       "  </tbody>\n",
       "</table>\n",
       "</div>"
      ],
      "text/plain": [
       "       HOURLYDRYBULBTEMPF\n",
       "month                    \n",
       "2.0                 46586\n",
       "11.0                47678\n",
       "6.0                 47937\n",
       "9.0                 48279\n",
       "7.0                 48606\n",
       "8.0                 48876\n",
       "4.0                 48886\n",
       "10.0                49447\n",
       "1.0                 50097\n",
       "12.0                50449\n",
       "3.0                 50864\n",
       "5.0                 51163"
      ]
     },
     "execution_count": 269,
     "metadata": {},
     "output_type": "execute_result"
    }
   ],
   "source": [
    "individualmonths"
   ]
  },
  {
   "cell_type": "code",
   "execution_count": 279,
   "metadata": {},
   "outputs": [
    {
     "data": {
      "text/plain": [
       "month\n",
       "7     43779\n",
       "6     43811\n",
       "11    43983\n",
       "8     44127\n",
       "2     44365\n",
       "9     44685\n",
       "4     45272\n",
       "10    45444\n",
       "12    46859\n",
       "1     47260\n",
       "3     47401\n",
       "5     47723\n",
       "Name: HOURLYWindSpeed, dtype: int64"
      ]
     },
     "execution_count": 279,
     "metadata": {},
     "output_type": "execute_result"
    }
   ],
   "source": [
    "# SeaLevelPressure_Monthly = df_new.groupby(['month']).mean(skipna=True)['HOURLYWindSpeed'].reset_index()\n",
    "Windspeed_monthly = df_new.pivot_table(index=\"month\",values=\"HOURLYWindSpeed\",aggfunc=lambda x: x.count())\n",
    "Windspeed_monthly.sort_values() #,columns=\"HOURLYWindSpeed\""
   ]
  },
  {
   "cell_type": "code",
   "execution_count": 283,
   "metadata": {},
   "outputs": [
    {
     "data": {
      "text/plain": [
       "<matplotlib.text.Text at 0x25aa20e7198>"
      ]
     },
     "execution_count": 283,
     "metadata": {},
     "output_type": "execute_result"
    },
    {
     "data": {
      "image/png": "[encoded data removed]",
      "text/plain": [
       "<matplotlib.figure.Figure at 0x25aa2168be0>"
      ]
     },
     "metadata": {},
     "output_type": "display_data"
    }
   ],
   "source": [
    "akx = Windspeed_monthly.plot(kind='bar')\n",
    "akx.set_ylabel('Max_Aggregate_Hourlywindspeed--->')\n",
    "akx.set_xlabel('Month--->')"
   ]
  },
  {
   "cell_type": "code",
   "execution_count": 280,
   "metadata": {
    "collapsed": true
   },
   "outputs": [],
   "source": [
    "# SeaLevelPressure_Monthly = pd.DataFrame({'SeaLevelPressure' : samples.groupby(['month'])['HOURLYSeaLevelPressure'].mean()}).reset_index()\n",
    "# WindSpeed_Monthly = samples.groupby('timestamps')\n",
    "# WindSpeed_Monthly['HOURLYSeaLevelPressure'].count()\n",
    "\n",
    "# from datetime import time\n",
    "\n",
    "# morning_start = time(6)\n",
    "# morning_end = time(19)\n",
    "# night_start = time(20)\n",
    "# night_end = time(5)\n",
    "\n",
    "# periods = {'morning':[morning_start, morning_end], 'night':[night_start, night_end]}\n",
    "# samples_new = old.filter(['timestamps',''], axis=1)\n",
    "# #samples.timestamps.resample('4T', how='sum')\n",
    "# samples.timestamps.to_period(freq=4)"
   ]
  },
  {
   "cell_type": "code",
   "execution_count": 304,
   "metadata": {},
   "outputs": [
    {
     "data": {
      "text/plain": [
       "[0, 4, 8, 12, 16, 20]"
      ]
     },
     "execution_count": 304,
     "metadata": {},
     "output_type": "execute_result"
    }
   ],
   "source": [
    "# timez = list(range(0,24,4))\n",
    "# timez"
   ]
  },
  {
   "cell_type": "code",
   "execution_count": 312,
   "metadata": {
    "collapsed": true
   },
   "outputs": [],
   "source": [
    "times = list(range(0, 24, 4))\n",
    "labels = ['late_night','early_morning','morning', 'afternoon', 'evening', 'night']\n",
    "periods = dict(zip(times, labels))"
   ]
  },
  {
   "cell_type": "code",
   "execution_count": 313,
   "metadata": {
    "collapsed": true
   },
   "outputs": [],
   "source": [
    "def period(row):\n",
    "    v_start = {'hour': row.timestamps.hour, 'min': row.timestamps.minute} # get hour, min of visit start\n",
    "    v_end = {'hour': row.timestamps.hour, 'min': row.timestamps.minute} # get hour, min of visit end\n",
    "    for period_start, label in periods.items():\n",
    "        period_end = period_start + 4\n",
    "        if period_start <= v_start['hour'] < period_end:\n",
    "            if period_start <= v_end['hour'] < period_end or (period_end - v_start['hour']) * 60 - v_s['min'] > (v_end['hour'] - period_end) * 60 + v_end['min']:\n",
    "                return label\n",
    "            else:\n",
    "                return periods[period_end] # assign label of following period "
   ]
  },
  {
   "cell_type": "code",
   "execution_count": 314,
   "metadata": {
    "collapsed": true
   },
   "outputs": [],
   "source": [
    "# df_new.drop(['period'],axis=1,inplace=True)"
   ]
  },
  {
   "cell_type": "code",
   "execution_count": 315,
   "metadata": {
    "collapsed": true
   },
   "outputs": [],
   "source": [
    "df_new['period'] = df_new.apply(period, axis=1)"
   ]
  },
  {
   "cell_type": "markdown",
   "metadata": {},
   "source": [
    "time          | period\n",
    "------------- | -------------\n",
    "0 am - 4am    | late_night\n",
    "4 am - 8am    | early_morning\n",
    "8 am - 12am   | morning\n",
    "12 pm - 4pm   | afternoon\n",
    "4 pm - 8pm    | evening\n",
    "8 pm - 12 am  | night"
   ]
  },
  {
   "cell_type": "code",
   "execution_count": 311,
   "metadata": {
    "collapsed": true
   },
   "outputs": [],
   "source": [
    "# df_new.to_csv('newworld.csv')"
   ]
  },
  {
   "cell_type": "code",
   "execution_count": 319,
   "metadata": {
    "collapsed": true
   },
   "outputs": [],
   "source": [
    "Windspeed_period = df_new.pivot_table(index=\"period\",values=\"HOURLYWindSpeed\",aggfunc=lambda x: x.count())\n",
    "wp = Windspeed_period.sort_values()\n"
   ]
  },
  {
   "cell_type": "code",
   "execution_count": 349,
   "metadata": {},
   "outputs": [
    {
     "name": "stdout",
     "output_type": "stream",
     "text": [
      "The windspeed tends to be maximum at period\n",
      "morning    93840\n",
      "Name: HOURLYWindSpeed, dtype: int64\n"
     ]
    }
   ],
   "source": [
    "print('The windspeed tends to be maximum at ' + str(wp[5:6]))"
   ]
  },
  {
   "cell_type": "markdown",
   "metadata": {},
   "source": [
    "## The windspeed tends to be maximum at the morning time and least at night time that we can infer from this analysis"
   ]
  },
  {
   "cell_type": "code",
   "execution_count": 334,
   "metadata": {},
   "outputs": [
    {
     "data": {
      "text/plain": [
       "<matplotlib.text.Text at 0x25a8e4c3be0>"
      ]
     },
     "execution_count": 334,
     "metadata": {},
     "output_type": "execute_result"
    },
    {
     "data": {
      "image/png": "[encoded data removed]",
      "text/plain": [
       "<matplotlib.figure.Figure at 0x25a8e564eb8>"
      ]
     },
     "metadata": {},
     "output_type": "display_data"
    }
   ],
   "source": [
    "ax = wp.plot()\n",
    "ax.set_ylabel('Max_Aggregate_Hourlywindspeed--->')\n",
    "ax.set_xlabel('Timpe periods--->')"
   ]
  },
  {
   "cell_type": "code",
   "execution_count": 379,
   "metadata": {},
   "outputs": [
    {
     "data": {
      "text/plain": [
       "month\n",
       "12    740\n",
       "1     742\n",
       "2     733\n",
       "3     654\n",
       "4     607\n",
       "5     534\n",
       "6     532\n",
       "7     537\n",
       "8     606\n",
       "9     622\n",
       "10    648\n",
       "11    703\n",
       "Name: DAILYSunrise, dtype: int64"
      ]
     },
     "execution_count": 379,
     "metadata": {},
     "output_type": "execute_result"
    }
   ],
   "source": [
    "\n",
    "# Sunrise_time_Monthly = df_new.groupby(['month']).mode()['DAILYSunrise'].reset_index()\n",
    "# Sunrise_time_Monthly\n",
    "\n",
    "# df_DAILYSunrise = df_new.groupby(['month','DAILYSunrise']).agg(lambda x:x.value_counts())\n",
    "\n",
    "# df_DAILYSunrise = df_new.pivot_table(index=\"month\",values=\"DAILYSunrise\",aggfunc=lambda x: x.value_count())\n",
    "# ds = df_DAILYSunrise.sort_values()\n",
    "# ds\n",
    "\n",
    "# mode = lambda x: x.mode() if len(x) > 2 else np.array(x)\n",
    "# Sunrise_time_Monthly = df_new.groupby('month')['DAILYSunrise'].mode\n",
    "\n",
    "# Sunrise_time_Monthly = df_new.groupby('month').agg(lambda x: scipy.stats.mode(x)[0])\n",
    "\n",
    "def mode(a):\n",
    "    u, c = np.unique(a, return_counts=True)\n",
    "    return u[c.argmax()]\n",
    "\n",
    "Sunrise_time_Month =  df_new.groupby(pd.Grouper(key='month')).DAILYSunrise.apply(mode)\n",
    "Sunrise_time_Month"
   ]
  },
  {
   "cell_type": "markdown",
   "metadata": {},
   "source": [
    "## We can see how summer months have an early sunrise and winter month having a late sunrise which resembels to the reality of Nature. The earliest Sunset is in June month with 5.32 AM while the month with latest is January with 7.42 AM. "
   ]
  },
  {
   "cell_type": "code",
   "execution_count": 390,
   "metadata": {},
   "outputs": [
    {
     "data": {
      "text/plain": [
       "<matplotlib.text.Text at 0x25acfd55710>"
      ]
     },
     "execution_count": 390,
     "metadata": {},
     "output_type": "execute_result"
    },
    {
     "data": {
      "image/png": "[encoded data removed]",
      "text/plain": [
       "<matplotlib.figure.Figure at 0x25acfd239e8>"
      ]
     },
     "metadata": {},
     "output_type": "display_data"
    }
   ],
   "source": [
    "ax1 = Sunrise_time_Month.plot(kind='bar' )\n",
    "ax1.set_ylabel('Sunrise Timings')"
   ]
  }
 ],
 "metadata": {
  "anaconda-cloud": {},
  "kernelspec": {
   "display_name": "Python 3",
   "language": "python",
   "name": "python3"
  },
  "language_info": {
   "codemirror_mode": {
    "name": "ipython",
    "version": 3
   },
   "file_extension": ".py",
   "mimetype": "text/x-python",
   "name": "python",
   "nbconvert_exporter": "python",
   "pygments_lexer": "ipython3",
   "version": "3.4.0"
  }
 },
 "nbformat": 4,
 "nbformat_minor": 2
}
